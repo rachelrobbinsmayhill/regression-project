{
 "cells": [
  {
   "cell_type": "code",
   "execution_count": 1,
   "id": "b79a561e-837e-44ac-94c6-eb177ad5a0e3",
   "metadata": {},
   "outputs": [],
   "source": [
    "# STANDARD LIBRARIES\n",
    "import os\n",
    "import warnings\n",
    "warnings.filterwarnings(\"ignore\")\n",
    "\n",
    "# THIRD PARTY LIBRARIES\n",
    "import numpy as np\n",
    "import matplotlib.pyplot as plt\n",
    "import pandas as pd\n",
    "import seaborn as sns\n",
    "import pydataset\n",
    "\n",
    "from sklearn.model_selection import train_test_split\n",
    "from sklearn.impute import SimpleImputer\n",
    "from sklearn.feature_selection import RFE\n",
    "from sklearn.metrics import mean_squared_error\n",
    "from sklearn.preprocessing import MinMaxScaler\n",
    "import sklearn.linear_model\n",
    "import sklearn.feature_selection\n",
    "import sklearn.preprocessing\n",
    "\n",
    "\n",
    "# LOCAL LIBRARIES\n",
    "import env\n",
    "import acquire\n",
    "import prepare"
   ]
  },
  {
   "cell_type": "markdown",
   "id": "d87e8027-0de1-4ff2-83bd-a586b9098329",
   "metadata": {},
   "source": [
    "# ACQUIRE"
   ]
  },
  {
   "cell_type": "code",
   "execution_count": 2,
   "id": "22dd567e-9f0d-4e29-ac23-42037675c23a",
   "metadata": {},
   "outputs": [
    {
     "name": "stdout",
     "output_type": "stream",
     "text": [
      "Reading from csv file...\n"
     ]
    }
   ],
   "source": [
    "# Acquire data from SQL using module found in acuire.py\n",
    "df = acquire.get_zillow_data()"
   ]
  },
  {
   "cell_type": "code",
   "execution_count": 3,
   "id": "5be3680f-1153-4e9f-b40b-93821a511922",
   "metadata": {},
   "outputs": [
    {
     "data": {
      "text/html": [
       "<div>\n",
       "<style scoped>\n",
       "    .dataframe tbody tr th:only-of-type {\n",
       "        vertical-align: middle;\n",
       "    }\n",
       "\n",
       "    .dataframe tbody tr th {\n",
       "        vertical-align: top;\n",
       "    }\n",
       "\n",
       "    .dataframe thead th {\n",
       "        text-align: right;\n",
       "    }\n",
       "</style>\n",
       "<table border=\"1\" class=\"dataframe\">\n",
       "  <thead>\n",
       "    <tr style=\"text-align: right;\">\n",
       "      <th></th>\n",
       "      <th>bedrooms</th>\n",
       "      <th>bathrooms</th>\n",
       "      <th>square_feet</th>\n",
       "      <th>tax_value</th>\n",
       "      <th>year_built</th>\n",
       "      <th>tax_amount</th>\n",
       "      <th>geo_code</th>\n",
       "      <th>county_id</th>\n",
       "    </tr>\n",
       "  </thead>\n",
       "  <tbody>\n",
       "    <tr>\n",
       "      <th>0</th>\n",
       "      <td>4.0</td>\n",
       "      <td>3.5</td>\n",
       "      <td>3100.0</td>\n",
       "      <td>1023282.0</td>\n",
       "      <td>1998.0</td>\n",
       "      <td>11013.72</td>\n",
       "      <td>6059.0</td>\n",
       "      <td>1286.0</td>\n",
       "    </tr>\n",
       "    <tr>\n",
       "      <th>1</th>\n",
       "      <td>2.0</td>\n",
       "      <td>1.0</td>\n",
       "      <td>1465.0</td>\n",
       "      <td>464000.0</td>\n",
       "      <td>1967.0</td>\n",
       "      <td>5672.48</td>\n",
       "      <td>6111.0</td>\n",
       "      <td>2061.0</td>\n",
       "    </tr>\n",
       "    <tr>\n",
       "      <th>2</th>\n",
       "      <td>3.0</td>\n",
       "      <td>2.0</td>\n",
       "      <td>1243.0</td>\n",
       "      <td>564778.0</td>\n",
       "      <td>1962.0</td>\n",
       "      <td>6488.30</td>\n",
       "      <td>6059.0</td>\n",
       "      <td>1286.0</td>\n",
       "    </tr>\n",
       "    <tr>\n",
       "      <th>3</th>\n",
       "      <td>4.0</td>\n",
       "      <td>3.0</td>\n",
       "      <td>2376.0</td>\n",
       "      <td>145143.0</td>\n",
       "      <td>1970.0</td>\n",
       "      <td>1777.51</td>\n",
       "      <td>6037.0</td>\n",
       "      <td>3101.0</td>\n",
       "    </tr>\n",
       "    <tr>\n",
       "      <th>4</th>\n",
       "      <td>4.0</td>\n",
       "      <td>3.0</td>\n",
       "      <td>2962.0</td>\n",
       "      <td>773303.0</td>\n",
       "      <td>1950.0</td>\n",
       "      <td>9516.26</td>\n",
       "      <td>6037.0</td>\n",
       "      <td>3101.0</td>\n",
       "    </tr>\n",
       "  </tbody>\n",
       "</table>\n",
       "</div>"
      ],
      "text/plain": [
       "   bedrooms  bathrooms  square_feet  tax_value  year_built  tax_amount  \\\n",
       "0       4.0        3.5       3100.0  1023282.0      1998.0    11013.72   \n",
       "1       2.0        1.0       1465.0   464000.0      1967.0     5672.48   \n",
       "2       3.0        2.0       1243.0   564778.0      1962.0     6488.30   \n",
       "3       4.0        3.0       2376.0   145143.0      1970.0     1777.51   \n",
       "4       4.0        3.0       2962.0   773303.0      1950.0     9516.26   \n",
       "\n",
       "   geo_code  county_id  \n",
       "0    6059.0     1286.0  \n",
       "1    6111.0     2061.0  \n",
       "2    6059.0     1286.0  \n",
       "3    6037.0     3101.0  \n",
       "4    6037.0     3101.0  "
      ]
     },
     "execution_count": 3,
     "metadata": {},
     "output_type": "execute_result"
    }
   ],
   "source": [
    "df.head()"
   ]
  },
  {
   "cell_type": "code",
   "execution_count": 4,
   "id": "ae71acec-fe74-4e7b-b37e-e07f25ab471d",
   "metadata": {},
   "outputs": [
    {
     "data": {
      "text/plain": [
       "(52441, 8)"
      ]
     },
     "execution_count": 4,
     "metadata": {},
     "output_type": "execute_result"
    }
   ],
   "source": [
    "# Obtain rows and column counts\n",
    "df.shape"
   ]
  },
  {
   "cell_type": "markdown",
   "id": "32d0d9e6-5e73-45d9-bebd-b7b539f27d5b",
   "metadata": {},
   "source": [
    "### Observations/Takeaways"
   ]
  },
  {
   "cell_type": "markdown",
   "id": "bce5997b-3ad8-48d9-af3f-7e14755dc6cc",
   "metadata": {},
   "source": [
    "# PREPARE"
   ]
  },
  {
   "cell_type": "code",
   "execution_count": 5,
   "id": "8f2768a7-bfd6-4594-82d1-7f86d03812be",
   "metadata": {},
   "outputs": [],
   "source": [
    "# acquire 'cleaned' data\n",
    "df = prepare.wrangle_zillow(df)"
   ]
  },
  {
   "cell_type": "code",
   "execution_count": 6,
   "id": "8897a9fe-c90e-4446-9f1f-0f8d7704ae21",
   "metadata": {},
   "outputs": [
    {
     "data": {
      "text/html": [
       "<div>\n",
       "<style scoped>\n",
       "    .dataframe tbody tr th:only-of-type {\n",
       "        vertical-align: middle;\n",
       "    }\n",
       "\n",
       "    .dataframe tbody tr th {\n",
       "        vertical-align: top;\n",
       "    }\n",
       "\n",
       "    .dataframe thead th {\n",
       "        text-align: right;\n",
       "    }\n",
       "</style>\n",
       "<table border=\"1\" class=\"dataframe\">\n",
       "  <thead>\n",
       "    <tr style=\"text-align: right;\">\n",
       "      <th></th>\n",
       "      <th>bedrooms</th>\n",
       "      <th>bathrooms</th>\n",
       "      <th>square_feet</th>\n",
       "      <th>tax_value</th>\n",
       "      <th>year_built</th>\n",
       "      <th>tax_amount</th>\n",
       "      <th>geo_code</th>\n",
       "      <th>county_id</th>\n",
       "    </tr>\n",
       "  </thead>\n",
       "  <tbody>\n",
       "    <tr>\n",
       "      <th>0</th>\n",
       "      <td>4.0</td>\n",
       "      <td>3.5</td>\n",
       "      <td>3100.0</td>\n",
       "      <td>1023282.0</td>\n",
       "      <td>1998</td>\n",
       "      <td>11013.72</td>\n",
       "      <td>6059.0</td>\n",
       "      <td>1286.0</td>\n",
       "    </tr>\n",
       "    <tr>\n",
       "      <th>1</th>\n",
       "      <td>2.0</td>\n",
       "      <td>1.0</td>\n",
       "      <td>1465.0</td>\n",
       "      <td>464000.0</td>\n",
       "      <td>1967</td>\n",
       "      <td>5672.48</td>\n",
       "      <td>6111.0</td>\n",
       "      <td>2061.0</td>\n",
       "    </tr>\n",
       "    <tr>\n",
       "      <th>2</th>\n",
       "      <td>3.0</td>\n",
       "      <td>2.0</td>\n",
       "      <td>1243.0</td>\n",
       "      <td>564778.0</td>\n",
       "      <td>1962</td>\n",
       "      <td>6488.30</td>\n",
       "      <td>6059.0</td>\n",
       "      <td>1286.0</td>\n",
       "    </tr>\n",
       "    <tr>\n",
       "      <th>3</th>\n",
       "      <td>4.0</td>\n",
       "      <td>3.0</td>\n",
       "      <td>2376.0</td>\n",
       "      <td>145143.0</td>\n",
       "      <td>1970</td>\n",
       "      <td>1777.51</td>\n",
       "      <td>6037.0</td>\n",
       "      <td>3101.0</td>\n",
       "    </tr>\n",
       "    <tr>\n",
       "      <th>4</th>\n",
       "      <td>4.0</td>\n",
       "      <td>3.0</td>\n",
       "      <td>2962.0</td>\n",
       "      <td>773303.0</td>\n",
       "      <td>1950</td>\n",
       "      <td>9516.26</td>\n",
       "      <td>6037.0</td>\n",
       "      <td>3101.0</td>\n",
       "    </tr>\n",
       "  </tbody>\n",
       "</table>\n",
       "</div>"
      ],
      "text/plain": [
       "   bedrooms  bathrooms  square_feet  tax_value  year_built  tax_amount  \\\n",
       "0       4.0        3.5       3100.0  1023282.0        1998    11013.72   \n",
       "1       2.0        1.0       1465.0   464000.0        1967     5672.48   \n",
       "2       3.0        2.0       1243.0   564778.0        1962     6488.30   \n",
       "3       4.0        3.0       2376.0   145143.0        1970     1777.51   \n",
       "4       4.0        3.0       2962.0   773303.0        1950     9516.26   \n",
       "\n",
       "  geo_code  county_id  \n",
       "0   6059.0     1286.0  \n",
       "1   6111.0     2061.0  \n",
       "2   6059.0     1286.0  \n",
       "3   6037.0     3101.0  \n",
       "4   6037.0     3101.0  "
      ]
     },
     "execution_count": 6,
     "metadata": {},
     "output_type": "execute_result"
    }
   ],
   "source": [
    "df.head()"
   ]
  },
  {
   "cell_type": "code",
   "execution_count": 7,
   "id": "c1b07d8b-7bcc-4ba1-8667-1a5a3759ff75",
   "metadata": {},
   "outputs": [
    {
     "data": {
      "text/plain": [
       "(52315, 8)"
      ]
     },
     "execution_count": 7,
     "metadata": {},
     "output_type": "execute_result"
    }
   ],
   "source": [
    "# number of rows and columns after cleaning data\n",
    "df.shape"
   ]
  },
  {
   "cell_type": "code",
   "execution_count": 8,
   "id": "9c422287-0f47-4d48-8291-6a84810101d8",
   "metadata": {},
   "outputs": [
    {
     "name": "stdout",
     "output_type": "stream",
     "text": [
      "<class 'pandas.core.frame.DataFrame'>\n",
      "Int64Index: 52315 entries, 0 to 52440\n",
      "Data columns (total 8 columns):\n",
      " #   Column       Non-Null Count  Dtype  \n",
      "---  ------       --------------  -----  \n",
      " 0   bedrooms     52315 non-null  float64\n",
      " 1   bathrooms    52315 non-null  float64\n",
      " 2   square_feet  52315 non-null  float64\n",
      " 3   tax_value    52315 non-null  float64\n",
      " 4   year_built   52315 non-null  int64  \n",
      " 5   tax_amount   52315 non-null  float64\n",
      " 6   geo_code     52315 non-null  object \n",
      " 7   county_id    52315 non-null  float64\n",
      "dtypes: float64(6), int64(1), object(1)\n",
      "memory usage: 3.6+ MB\n"
     ]
    }
   ],
   "source": [
    "# review data types and null values\n",
    "df.info(show_counts=True)"
   ]
  },
  {
   "cell_type": "code",
   "execution_count": 9,
   "id": "d55f93f3-5e67-4848-9c78-2ad950f06396",
   "metadata": {},
   "outputs": [
    {
     "data": {
      "text/html": [
       "<div>\n",
       "<style scoped>\n",
       "    .dataframe tbody tr th:only-of-type {\n",
       "        vertical-align: middle;\n",
       "    }\n",
       "\n",
       "    .dataframe tbody tr th {\n",
       "        vertical-align: top;\n",
       "    }\n",
       "\n",
       "    .dataframe thead th {\n",
       "        text-align: right;\n",
       "    }\n",
       "</style>\n",
       "<table border=\"1\" class=\"dataframe\">\n",
       "  <thead>\n",
       "    <tr style=\"text-align: right;\">\n",
       "      <th></th>\n",
       "      <th>count</th>\n",
       "      <th>mean</th>\n",
       "      <th>std</th>\n",
       "      <th>min</th>\n",
       "      <th>25%</th>\n",
       "      <th>50%</th>\n",
       "      <th>75%</th>\n",
       "      <th>max</th>\n",
       "    </tr>\n",
       "  </thead>\n",
       "  <tbody>\n",
       "    <tr>\n",
       "      <th>bedrooms</th>\n",
       "      <td>52315.0</td>\n",
       "      <td>3.305897</td>\n",
       "      <td>0.940601</td>\n",
       "      <td>0.00</td>\n",
       "      <td>3.000</td>\n",
       "      <td>3.00</td>\n",
       "      <td>4.00</td>\n",
       "      <td>14.0</td>\n",
       "    </tr>\n",
       "    <tr>\n",
       "      <th>bathrooms</th>\n",
       "      <td>52315.0</td>\n",
       "      <td>2.302791</td>\n",
       "      <td>1.019080</td>\n",
       "      <td>0.00</td>\n",
       "      <td>2.000</td>\n",
       "      <td>2.00</td>\n",
       "      <td>3.00</td>\n",
       "      <td>18.0</td>\n",
       "    </tr>\n",
       "    <tr>\n",
       "      <th>square_feet</th>\n",
       "      <td>52315.0</td>\n",
       "      <td>1922.553914</td>\n",
       "      <td>1003.629061</td>\n",
       "      <td>128.00</td>\n",
       "      <td>1268.000</td>\n",
       "      <td>1658.00</td>\n",
       "      <td>2305.00</td>\n",
       "      <td>21929.0</td>\n",
       "    </tr>\n",
       "    <tr>\n",
       "      <th>tax_value</th>\n",
       "      <td>52315.0</td>\n",
       "      <td>528044.818809</td>\n",
       "      <td>748457.587363</td>\n",
       "      <td>1000.00</td>\n",
       "      <td>193701.000</td>\n",
       "      <td>373374.00</td>\n",
       "      <td>618617.00</td>\n",
       "      <td>49061236.0</td>\n",
       "    </tr>\n",
       "    <tr>\n",
       "      <th>year_built</th>\n",
       "      <td>52315.0</td>\n",
       "      <td>1963.395699</td>\n",
       "      <td>23.133908</td>\n",
       "      <td>1878.00</td>\n",
       "      <td>1950.000</td>\n",
       "      <td>1961.00</td>\n",
       "      <td>1979.00</td>\n",
       "      <td>2016.0</td>\n",
       "    </tr>\n",
       "    <tr>\n",
       "      <th>tax_amount</th>\n",
       "      <td>52315.0</td>\n",
       "      <td>6434.748320</td>\n",
       "      <td>8709.643614</td>\n",
       "      <td>49.18</td>\n",
       "      <td>2656.185</td>\n",
       "      <td>4645.42</td>\n",
       "      <td>7371.64</td>\n",
       "      <td>586639.3</td>\n",
       "    </tr>\n",
       "    <tr>\n",
       "      <th>county_id</th>\n",
       "      <td>52315.0</td>\n",
       "      <td>2525.808372</td>\n",
       "      <td>803.739679</td>\n",
       "      <td>1286.00</td>\n",
       "      <td>1286.000</td>\n",
       "      <td>3101.00</td>\n",
       "      <td>3101.00</td>\n",
       "      <td>3101.0</td>\n",
       "    </tr>\n",
       "  </tbody>\n",
       "</table>\n",
       "</div>"
      ],
      "text/plain": [
       "               count           mean            std      min         25%  \\\n",
       "bedrooms     52315.0       3.305897       0.940601     0.00       3.000   \n",
       "bathrooms    52315.0       2.302791       1.019080     0.00       2.000   \n",
       "square_feet  52315.0    1922.553914    1003.629061   128.00    1268.000   \n",
       "tax_value    52315.0  528044.818809  748457.587363  1000.00  193701.000   \n",
       "year_built   52315.0    1963.395699      23.133908  1878.00    1950.000   \n",
       "tax_amount   52315.0    6434.748320    8709.643614    49.18    2656.185   \n",
       "county_id    52315.0    2525.808372     803.739679  1286.00    1286.000   \n",
       "\n",
       "                   50%        75%         max  \n",
       "bedrooms          3.00       4.00        14.0  \n",
       "bathrooms         2.00       3.00        18.0  \n",
       "square_feet    1658.00    2305.00     21929.0  \n",
       "tax_value    373374.00  618617.00  49061236.0  \n",
       "year_built     1961.00    1979.00      2016.0  \n",
       "tax_amount     4645.42    7371.64    586639.3  \n",
       "county_id      3101.00    3101.00      3101.0  "
      ]
     },
     "execution_count": 9,
     "metadata": {},
     "output_type": "execute_result"
    }
   ],
   "source": [
    "# Observe descriptive stats\n",
    "df.describe().T"
   ]
  },
  {
   "cell_type": "markdown",
   "id": "4daab168-655d-470c-aa6c-629b860a7327",
   "metadata": {},
   "source": [
    "#### Observations/Takeaways:"
   ]
  },
  {
   "cell_type": "markdown",
   "id": "21e46620-227a-4411-9baa-775b941a9f7c",
   "metadata": {},
   "source": [
    "## Univariate Distributions"
   ]
  },
  {
   "cell_type": "code",
   "execution_count": 10,
   "id": "592f9d7f-58be-4c6b-b935-852d0be8c860",
   "metadata": {},
   "outputs": [
    {
     "data": {
      "image/png": "[encoded data removed]",
      "text/plain": [
       "<Figure size 1800x360 with 8 Axes>"
      ]
     },
     "metadata": {
      "needs_background": "light"
     },
     "output_type": "display_data"
    }
   ],
   "source": [
    "# list of numeric columns\n",
    "cols = [col for col in df.columns if col not in ['fed_code']]\n",
    "\n",
    "# figsize width to height\n",
    "plt.figure(figsize=(25, 5))\n",
    "\n",
    "# loop to iterate over columns\n",
    "for i, col in enumerate(cols):\n",
    "        \n",
    "        # i starts at 0 but plot numbers should start at 1\n",
    "        plot_number = i + 1\n",
    "        \n",
    "        # create subplot\n",
    "        plt.subplot(1, len(cols), plot_number)\n",
    "        \n",
    "        # create title with the column name\n",
    "        plt.title(col)\n",
    "        \n",
    "        # display a histogram for each of the columns            \n",
    "        df[col].hist(bins=5)\n",
    "        \n",
    "        # Hide gridlines.\n",
    "        plt.grid(False)\n",
    "         \n",
    "        # turn off scientific notation\n",
    "        plt.ticklabel_format(useOffset=False)\n",
    "    \n",
    "plt.tight_layout()\n",
    "plt.show()"
   ]
  },
  {
   "cell_type": "code",
   "execution_count": 11,
   "id": "01f197f8-6f9e-4573-8676-5aa905fea533",
   "metadata": {},
   "outputs": [
    {
     "data": {
      "image/png": "[encoded data removed]",
      "text/plain": [
       "<Figure size 1800x360 with 8 Axes>"
      ]
     },
     "metadata": {
      "needs_background": "light"
     },
     "output_type": "display_data"
    }
   ],
   "source": [
    "# Visualize Boxplot/Skew\n",
    "\n",
    "\n",
    "# list of numeric columns\n",
    "cols = [col for col in df.columns if col not in ['fed_code']]\n",
    "\n",
    "# figsize width to height\n",
    "plt.figure(figsize=(25, 5))\n",
    "\n",
    "# loop to iterate over columns\n",
    "for i, col in enumerate(cols):\n",
    "        \n",
    "        # i starts at 0 but plot numbers should start at 1\n",
    "        plot_number = i + 1\n",
    "        \n",
    "        # create subplot\n",
    "        plt.subplot(1, len(cols), plot_number)\n",
    "        \n",
    "        # create title with the column name\n",
    "        plt.title(col)\n",
    "        \n",
    "        # display a histogram for each of the columns            \n",
    "        sns.boxplot(df[col])\n",
    "        \n",
    "        # Hide gridlines.\n",
    "        plt.grid(False)\n",
    "         \n",
    "      \n",
    "    \n",
    "plt.tight_layout()\n",
    "plt.show()"
   ]
  },
  {
   "cell_type": "markdown",
   "id": "bb4ff0ad-b770-4684-96a8-721ad98b2c04",
   "metadata": {},
   "source": [
    "#### Observations / Takeaways\n",
    "\n",
    "- Bedrooms, bathrooms, square_feet, tax_assessed_value_USD and tax_amount are not very helpful in seeing the spread because they are too narrow in scope. \n",
    "- Data is skewed due to outliers \n",
    "- Clear outiers in all categories Scales are not helpful\n",
    "- Better to remove prior to scaling (on TRAIN set only)"
   ]
  },
  {
   "cell_type": "markdown",
   "id": "1a8ed04b-0dc8-4b44-b73a-4fab258c590e",
   "metadata": {},
   "source": [
    "### PREPARE - SPLIT THE DATA"
   ]
  },
  {
   "cell_type": "markdown",
   "id": "ce2f5e2c-cf53-434f-9ada-9c54c49e4c63",
   "metadata": {},
   "source": [
    "Construct an ML Regression model that predict propery tax assessed values ('taxvaluedollarcnt') of Single Family Properties using attributes of the properties.\n",
    "\n",
    "Find the key drivers of property value for single family properties. Some questions that come to mind are: Why do some properties have a much higher value than others when they are located so close to each other? Why are some properties valued so differently from others when they have nearly the same physical attributes but only differ in location? Is having 1 bathroom worse than having 2 bedrooms?\n",
    "\n",
    "Deliver a report that the data science team can read through and replicate, understand what steps were taken, why and what the outcome was.\n",
    "\n",
    "Make recommendations on what works or doesn't work in prediction these homes' values."
   ]
  },
  {
   "cell_type": "code",
   "execution_count": 12,
   "id": "bcc33bf1-6e4d-46c4-83af-1a716828c6ec",
   "metadata": {},
   "outputs": [],
   "source": [
    "def split_data(df):\n",
    "    train_val, test = train_test_split(df, train_size=0.8,random_state=123)\n",
    "    train, validate = train_test_split(train_val, train_size=0.7, random_state=123)\n",
    "    print(f'train -> {train.shape}')\n",
    "    print(f'validate -> {validate.shape}')\n",
    "    print(f'test -> {test.shape}')\n",
    "    \n",
    "    return train, validate, test"
   ]
  },
  {
   "cell_type": "code",
   "execution_count": 13,
   "id": "3836888a-7860-4fb7-82f0-49f9671afcc5",
   "metadata": {},
   "outputs": [
    {
     "name": "stdout",
     "output_type": "stream",
     "text": [
      "train -> (29296, 8)\n",
      "validate -> (12556, 8)\n",
      "test -> (10463, 8)\n"
     ]
    }
   ],
   "source": [
    "train, validate, test = split_data(df)"
   ]
  },
  {
   "cell_type": "markdown",
   "id": "e6dfd208-1925-47a5-b54a-da092ca3c204",
   "metadata": {},
   "source": [
    "## EXPLORE"
   ]
  },
  {
   "cell_type": "code",
   "execution_count": 14,
   "id": "82a1c392-365a-403c-806f-f4682f75eead",
   "metadata": {},
   "outputs": [
    {
     "name": "stdout",
     "output_type": "stream",
     "text": [
      "<class 'pandas.core.frame.DataFrame'>\n",
      "Int64Index: 29296 entries, 42782 to 26292\n",
      "Data columns (total 8 columns):\n",
      " #   Column       Non-Null Count  Dtype  \n",
      "---  ------       --------------  -----  \n",
      " 0   bedrooms     29296 non-null  float64\n",
      " 1   bathrooms    29296 non-null  float64\n",
      " 2   square_feet  29296 non-null  float64\n",
      " 3   tax_value    29296 non-null  float64\n",
      " 4   year_built   29296 non-null  int64  \n",
      " 5   tax_amount   29296 non-null  float64\n",
      " 6   geo_code     29296 non-null  object \n",
      " 7   county_id    29296 non-null  float64\n",
      "dtypes: float64(6), int64(1), object(1)\n",
      "memory usage: 2.0+ MB\n"
     ]
    }
   ],
   "source": [
    "train.info()"
   ]
  },
  {
   "cell_type": "code",
   "execution_count": 15,
   "id": "d8d20989-0afd-4614-81ad-f108a7f35578",
   "metadata": {},
   "outputs": [],
   "source": [
    "cont_cols = ['bedrooms','bathrooms','square_feet', 'tax_value', 'tax_amount', 'year_built']"
   ]
  },
  {
   "cell_type": "code",
   "execution_count": 16,
   "id": "e9ba96d0-496a-42ac-b64a-c6d614c4cf1f",
   "metadata": {},
   "outputs": [],
   "source": [
    "# create a function that takes in a dataframe\n",
    "def plot_variable_pairs(df):\n",
    "    # plot the columns in a pairplot\n",
    "    sns.pairplot(df, kind = 'reg', corner = True, plot_kws={'line_kws':{'color':'red'}})\n",
    "    plt.show()"
   ]
  },
  {
   "cell_type": "code",
   "execution_count": 17,
   "id": "5cc79728-3a4b-488c-bd5c-f001e4ae8ea0",
   "metadata": {},
   "outputs": [
    {
     "data": {
      "image/png": "[encoded data removed]",
      "text/plain": [
       "<Figure size 1080x1080 with 27 Axes>"
      ]
     },
     "metadata": {
      "needs_background": "light"
     },
     "output_type": "display_data"
    }
   ],
   "source": [
    "plot_variable_pairs(train[cont_cols].sample(1000))"
   ]
  },
  {
   "cell_type": "code",
   "execution_count": 18,
   "id": "26a995cb-113d-4d48-8ca6-fbed01ed5ae8",
   "metadata": {},
   "outputs": [
    {
     "data": {
      "text/html": [
       "<style type=\"text/css\">\n",
       "#T_9f0d4_row0_col1, #T_9f0d4_row1_col1 {\n",
       "  background-color: #3b4cc0;\n",
       "  color: #f1f1f1;\n",
       "}\n",
       "#T_9f0d4_row2_col1 {\n",
       "  background-color: #7b9ff9;\n",
       "  color: #f1f1f1;\n",
       "}\n",
       "#T_9f0d4_row3_col1 {\n",
       "  background-color: #89acfd;\n",
       "  color: #000000;\n",
       "}\n",
       "#T_9f0d4_row4_col1 {\n",
       "  background-color: #b3cdfb;\n",
       "  color: #000000;\n",
       "}\n",
       "#T_9f0d4_row5_col1 {\n",
       "  background-color: #c5d6f2;\n",
       "  color: #000000;\n",
       "}\n",
       "#T_9f0d4_row6_col1 {\n",
       "  background-color: #e3d9d3;\n",
       "  color: #000000;\n",
       "}\n",
       "</style>\n",
       "<table id=\"T_9f0d4_\">\n",
       "  <thead>\n",
       "    <tr>\n",
       "      <th class=\"blank level0\" >&nbsp;</th>\n",
       "      <th class=\"col_heading level0 col0\" >index</th>\n",
       "      <th class=\"col_heading level0 col1\" >tax_value</th>\n",
       "    </tr>\n",
       "  </thead>\n",
       "  <tbody>\n",
       "    <tr>\n",
       "      <th id=\"T_9f0d4_level0_row0\" class=\"row_heading level0 row0\" >0</th>\n",
       "      <td id=\"T_9f0d4_row0_col0\" class=\"data row0 col0\" >tax_value</td>\n",
       "      <td id=\"T_9f0d4_row0_col1\" class=\"data row0 col1\" >1.000000</td>\n",
       "    </tr>\n",
       "    <tr>\n",
       "      <th id=\"T_9f0d4_level0_row1\" class=\"row_heading level0 row1\" >1</th>\n",
       "      <td id=\"T_9f0d4_row1_col0\" class=\"data row1 col0\" >tax_amount</td>\n",
       "      <td id=\"T_9f0d4_row1_col1\" class=\"data row1 col1\" >0.992834</td>\n",
       "    </tr>\n",
       "    <tr>\n",
       "      <th id=\"T_9f0d4_level0_row2\" class=\"row_heading level0 row2\" >2</th>\n",
       "      <td id=\"T_9f0d4_row2_col0\" class=\"data row2 col0\" >square_feet</td>\n",
       "      <td id=\"T_9f0d4_row2_col1\" class=\"data row2 col1\" >0.595221</td>\n",
       "    </tr>\n",
       "    <tr>\n",
       "      <th id=\"T_9f0d4_level0_row3\" class=\"row_heading level0 row3\" >3</th>\n",
       "      <td id=\"T_9f0d4_row3_col0\" class=\"data row3 col0\" >bathrooms</td>\n",
       "      <td id=\"T_9f0d4_row3_col1\" class=\"data row3 col1\" >0.517639</td>\n",
       "    </tr>\n",
       "    <tr>\n",
       "      <th id=\"T_9f0d4_level0_row4\" class=\"row_heading level0 row4\" >4</th>\n",
       "      <td id=\"T_9f0d4_row4_col0\" class=\"data row4 col0\" >bedrooms</td>\n",
       "      <td id=\"T_9f0d4_row4_col1\" class=\"data row4 col1\" >0.277379</td>\n",
       "    </tr>\n",
       "    <tr>\n",
       "      <th id=\"T_9f0d4_level0_row5\" class=\"row_heading level0 row5\" >5</th>\n",
       "      <td id=\"T_9f0d4_row5_col0\" class=\"data row5 col0\" >year_built</td>\n",
       "      <td id=\"T_9f0d4_row5_col1\" class=\"data row5 col1\" >0.167091</td>\n",
       "    </tr>\n",
       "    <tr>\n",
       "      <th id=\"T_9f0d4_level0_row6\" class=\"row_heading level0 row6\" >6</th>\n",
       "      <td id=\"T_9f0d4_row6_col0\" class=\"data row6 col0\" >county_id</td>\n",
       "      <td id=\"T_9f0d4_row6_col1\" class=\"data row6 col1\" >-0.051308</td>\n",
       "    </tr>\n",
       "  </tbody>\n",
       "</table>\n"
      ],
      "text/plain": [
       "<pandas.io.formats.style.Styler at 0x7fea69d7e700>"
      ]
     },
     "execution_count": 18,
     "metadata": {},
     "output_type": "execute_result"
    }
   ],
   "source": [
    "df_corr = train.corr().reset_index()\n",
    "corr_matrix = train.corr()\n",
    "corr_matrix[\"tax_value\"].sort_values(ascending=False).reset_index().style.background_gradient('coolwarm_r', vmin = -1, vmax = 1)"
   ]
  },
  {
   "cell_type": "code",
   "execution_count": 19,
   "id": "9cd7799d-2b84-4caf-b839-12026816c576",
   "metadata": {},
   "outputs": [
    {
     "data": {
      "text/plain": [
       "'\\n# Create a Graph (countplot) to show data\\nplt.figure(figsize=(14,7))\\n \\n# count plot on two categorical variable\\nsns.countplot(x =\\'internet_service_type\\', hue = \"tax_value\", data = train)\\n\\nplt.title(\\'Customer Churn by Internet Type\\', fontsize = 20)\\nplt.xlabel(\\'Internet Type\\', fontsize = 16)\\nplt.xticks(fontsize = 14)\\nplt.yticks(fontsize = 14)\\nplt.ylabel(\\'# of Customers\\', fontsize = 16)\\n\\n# Show the plot\\nplt.show()\\n\\n'"
      ]
     },
     "execution_count": 19,
     "metadata": {},
     "output_type": "execute_result"
    }
   ],
   "source": [
    "'''\n",
    "# Create a Graph (countplot) to show data\n",
    "plt.figure(figsize=(14,7))\n",
    " \n",
    "# count plot on two categorical variable\n",
    "sns.countplot(x ='internet_service_type', hue = \"tax_value\", data = train)\n",
    "\n",
    "plt.title('Customer Churn by Internet Type', fontsize = 20)\n",
    "plt.xlabel('Internet Type', fontsize = 16)\n",
    "plt.xticks(fontsize = 14)\n",
    "plt.yticks(fontsize = 14)\n",
    "plt.ylabel('# of Customers', fontsize = 16)\n",
    "\n",
    "# Show the plot\n",
    "plt.show()\n",
    "\n",
    "'''"
   ]
  },
  {
   "cell_type": "markdown",
   "id": "d59b51b1-d70b-441d-b736-0a3253c87cef",
   "metadata": {
    "tags": []
   },
   "source": [
    "### EXPLORATION: Questions"
   ]
  },
  {
   "cell_type": "markdown",
   "id": "b2d1763b-f861-4358-b001-b1c2a20b1fba",
   "metadata": {},
   "source": [
    "Question 1: Do number of bathrooms impact tax value?"
   ]
  },
  {
   "cell_type": "code",
   "execution_count": 20,
   "id": "eca9750d-876a-4cb8-bb24-f9c50c698193",
   "metadata": {},
   "outputs": [],
   "source": [
    "def visual(df, cont_col, cat_col):\n",
    "\n",
    "    return sns.swarmplot(x=cat_col, y=cont_col, data=df)\n",
    "    "
   ]
  },
  {
   "cell_type": "code",
   "execution_count": 21,
   "id": "8f7c2cb0-d80d-45e1-98c4-918ef406f238",
   "metadata": {},
   "outputs": [],
   "source": [
    "# visual(train, 'tax_value', 'bedrooms')"
   ]
  },
  {
   "cell_type": "markdown",
   "id": "d8a9af97-d0d2-4f3b-a245-02e43fecc18f",
   "metadata": {},
   "source": [
    "#### EXPLORATION: Hypothesis Testing"
   ]
  },
  {
   "cell_type": "code",
   "execution_count": null,
   "id": "d1d69ece-be0a-4186-902e-d6fa66253d8c",
   "metadata": {},
   "outputs": [],
   "source": []
  },
  {
   "cell_type": "markdown",
   "id": "c3d6081d-fe8a-4b8e-9bd7-bc36e8f5a033",
   "metadata": {},
   "source": [
    "## MODELING & EVALUATION"
   ]
  },
  {
   "cell_type": "markdown",
   "id": "bf69d9ac-98fe-4783-ae2b-87e9492c2cbd",
   "metadata": {},
   "source": [
    "### Feature Engineering: K-Best"
   ]
  },
  {
   "cell_type": "code",
   "execution_count": 22,
   "id": "c6871843-2200-42f6-a251-0cdc63415175",
   "metadata": {},
   "outputs": [
    {
     "data": {
      "text/html": [
       "<div>\n",
       "<style scoped>\n",
       "    .dataframe tbody tr th:only-of-type {\n",
       "        vertical-align: middle;\n",
       "    }\n",
       "\n",
       "    .dataframe tbody tr th {\n",
       "        vertical-align: top;\n",
       "    }\n",
       "\n",
       "    .dataframe thead th {\n",
       "        text-align: right;\n",
       "    }\n",
       "</style>\n",
       "<table border=\"1\" class=\"dataframe\">\n",
       "  <thead>\n",
       "    <tr style=\"text-align: right;\">\n",
       "      <th></th>\n",
       "      <th>bedrooms</th>\n",
       "      <th>bathrooms</th>\n",
       "      <th>square_feet</th>\n",
       "      <th>year_built</th>\n",
       "      <th>tax_amount</th>\n",
       "      <th>geo_code</th>\n",
       "      <th>county_id</th>\n",
       "    </tr>\n",
       "  </thead>\n",
       "  <tbody>\n",
       "    <tr>\n",
       "      <th>42782</th>\n",
       "      <td>2.0</td>\n",
       "      <td>1.0</td>\n",
       "      <td>614.0</td>\n",
       "      <td>1923</td>\n",
       "      <td>2863.70</td>\n",
       "      <td>6037.0</td>\n",
       "      <td>3101.0</td>\n",
       "    </tr>\n",
       "    <tr>\n",
       "      <th>40761</th>\n",
       "      <td>4.0</td>\n",
       "      <td>2.0</td>\n",
       "      <td>1792.0</td>\n",
       "      <td>1947</td>\n",
       "      <td>5673.98</td>\n",
       "      <td>6037.0</td>\n",
       "      <td>3101.0</td>\n",
       "    </tr>\n",
       "    <tr>\n",
       "      <th>2994</th>\n",
       "      <td>4.0</td>\n",
       "      <td>4.5</td>\n",
       "      <td>4052.0</td>\n",
       "      <td>2004</td>\n",
       "      <td>11679.74</td>\n",
       "      <td>6059.0</td>\n",
       "      <td>1286.0</td>\n",
       "    </tr>\n",
       "    <tr>\n",
       "      <th>35637</th>\n",
       "      <td>4.0</td>\n",
       "      <td>4.0</td>\n",
       "      <td>4342.0</td>\n",
       "      <td>1957</td>\n",
       "      <td>18950.81</td>\n",
       "      <td>6037.0</td>\n",
       "      <td>3101.0</td>\n",
       "    </tr>\n",
       "    <tr>\n",
       "      <th>16821</th>\n",
       "      <td>4.0</td>\n",
       "      <td>3.5</td>\n",
       "      <td>3238.0</td>\n",
       "      <td>1987</td>\n",
       "      <td>10355.22</td>\n",
       "      <td>6111.0</td>\n",
       "      <td>2061.0</td>\n",
       "    </tr>\n",
       "  </tbody>\n",
       "</table>\n",
       "</div>"
      ],
      "text/plain": [
       "       bedrooms  bathrooms  square_feet  year_built  tax_amount geo_code  \\\n",
       "42782       2.0        1.0        614.0        1923     2863.70   6037.0   \n",
       "40761       4.0        2.0       1792.0        1947     5673.98   6037.0   \n",
       "2994        4.0        4.5       4052.0        2004    11679.74   6059.0   \n",
       "35637       4.0        4.0       4342.0        1957    18950.81   6037.0   \n",
       "16821       4.0        3.5       3238.0        1987    10355.22   6111.0   \n",
       "\n",
       "       county_id  \n",
       "42782     3101.0  \n",
       "40761     3101.0  \n",
       "2994      1286.0  \n",
       "35637     3101.0  \n",
       "16821     2061.0  "
      ]
     },
     "execution_count": 22,
     "metadata": {},
     "output_type": "execute_result"
    }
   ],
   "source": [
    "target = \"tax_value\"\n",
    "\n",
    "# split train into X (dataframe, drop target) & y (series, keep target only)\n",
    "X_train = train.drop(columns=[target])\n",
    "y_train = train[target]\n",
    "\n",
    "# split validate into X (dataframe, drop target) & y (series, keep target only)\n",
    "X_validate = validate.drop(columns=[target])\n",
    "y_validate = validate[target]\n",
    "\n",
    "# split test into X (dataframe, drop target) & y (series, keep target only)\n",
    "X_test = test.drop(columns=[target])\n",
    "y_test = test[target]\n",
    "\n",
    "X_train.head()"
   ]
  },
  {
   "cell_type": "code",
   "execution_count": 23,
   "id": "ddace6db-0fbb-49a2-85bd-bbf29acb8cf7",
   "metadata": {},
   "outputs": [
    {
     "data": {
      "text/plain": [
       "(29296, 7)"
      ]
     },
     "execution_count": 23,
     "metadata": {},
     "output_type": "execute_result"
    }
   ],
   "source": [
    "X_train.shape"
   ]
  },
  {
   "cell_type": "code",
   "execution_count": 24,
   "id": "976af2bc-58f5-451f-9f9f-3782adce0365",
   "metadata": {},
   "outputs": [],
   "source": [
    "from sklearn.feature_selection import SelectKBest, f_regression"
   ]
  },
  {
   "cell_type": "code",
   "execution_count": 25,
   "id": "df27eb6e-4db1-4963-b451-62ae5fc47412",
   "metadata": {},
   "outputs": [
    {
     "data": {
      "text/plain": [
       "pandas.core.frame.DataFrame"
      ]
     },
     "execution_count": 25,
     "metadata": {},
     "output_type": "execute_result"
    }
   ],
   "source": [
    "type(X_train)"
   ]
  },
  {
   "cell_type": "code",
   "execution_count": 26,
   "id": "99ef3837-bacf-471d-b06b-903cd3bca0a5",
   "metadata": {},
   "outputs": [
    {
     "data": {
      "text/html": [
       "<div>\n",
       "<style scoped>\n",
       "    .dataframe tbody tr th:only-of-type {\n",
       "        vertical-align: middle;\n",
       "    }\n",
       "\n",
       "    .dataframe tbody tr th {\n",
       "        vertical-align: top;\n",
       "    }\n",
       "\n",
       "    .dataframe thead th {\n",
       "        text-align: right;\n",
       "    }\n",
       "</style>\n",
       "<table border=\"1\" class=\"dataframe\">\n",
       "  <thead>\n",
       "    <tr style=\"text-align: right;\">\n",
       "      <th></th>\n",
       "      <th>p</th>\n",
       "      <th>f</th>\n",
       "    </tr>\n",
       "  </thead>\n",
       "  <tbody>\n",
       "    <tr>\n",
       "      <th>bedrooms</th>\n",
       "      <td>0.000000e+00</td>\n",
       "      <td>2441.709306</td>\n",
       "    </tr>\n",
       "    <tr>\n",
       "      <th>bathrooms</th>\n",
       "      <td>0.000000e+00</td>\n",
       "      <td>10722.391954</td>\n",
       "    </tr>\n",
       "    <tr>\n",
       "      <th>square_feet</th>\n",
       "      <td>0.000000e+00</td>\n",
       "      <td>16072.949607</td>\n",
       "    </tr>\n",
       "    <tr>\n",
       "      <th>year_built</th>\n",
       "      <td>2.087269e-182</td>\n",
       "      <td>841.364687</td>\n",
       "    </tr>\n",
       "    <tr>\n",
       "      <th>geo_code</th>\n",
       "      <td>1.237594e-04</td>\n",
       "      <td>14.738479</td>\n",
       "    </tr>\n",
       "    <tr>\n",
       "      <th>county_id</th>\n",
       "      <td>1.531592e-18</td>\n",
       "      <td>77.320313</td>\n",
       "    </tr>\n",
       "  </tbody>\n",
       "</table>\n",
       "</div>"
      ],
      "text/plain": [
       "                         p             f\n",
       "bedrooms      0.000000e+00   2441.709306\n",
       "bathrooms     0.000000e+00  10722.391954\n",
       "square_feet   0.000000e+00  16072.949607\n",
       "year_built   2.087269e-182    841.364687\n",
       "geo_code      1.237594e-04     14.738479\n",
       "county_id     1.531592e-18     77.320313"
      ]
     },
     "execution_count": 26,
     "metadata": {},
     "output_type": "execute_result"
    }
   ],
   "source": [
    "\n",
    "# Make the filter\n",
    "kbest = SelectKBest(f_regression, k=3)\n",
    "\n",
    "# Fit the filter\n",
    "kbest.fit(X_train.drop(columns = 'tax_amount'), y_train)\n",
    "\n",
    "# Obtain results as a dataframe\n",
    "kbest_results = pd.DataFrame(dict(p=kbest.pvalues_, f=kbest.scores_), index=X_train.drop(columns = 'tax_amount').columns)\n",
    "kbest_results\n"
   ]
  },
  {
   "cell_type": "code",
   "execution_count": 27,
   "id": "a9c2f846-8592-4b74-8c25-c0419145669c",
   "metadata": {},
   "outputs": [
    {
     "data": {
      "text/plain": [
       "Index(['bedrooms', 'bathrooms', 'square_feet', 'year_built', 'geo_code',\n",
       "       'county_id'],\n",
       "      dtype='object')"
      ]
     },
     "execution_count": 27,
     "metadata": {},
     "output_type": "execute_result"
    }
   ],
   "source": [
    "X_train.drop(columns = 'tax_amount').columns"
   ]
  },
  {
   "cell_type": "code",
   "execution_count": 28,
   "id": "024b0c94-3936-4deb-96e7-11098520115c",
   "metadata": {},
   "outputs": [],
   "source": [
    "X_train_original = X_train.copy()\n",
    "X_train = X_train.drop(columns='tax_amount')"
   ]
  },
  {
   "cell_type": "code",
   "execution_count": 29,
   "id": "b91f1612-59a1-4636-9382-971c27820002",
   "metadata": {},
   "outputs": [
    {
     "data": {
      "text/html": [
       "<div>\n",
       "<style scoped>\n",
       "    .dataframe tbody tr th:only-of-type {\n",
       "        vertical-align: middle;\n",
       "    }\n",
       "\n",
       "    .dataframe tbody tr th {\n",
       "        vertical-align: top;\n",
       "    }\n",
       "\n",
       "    .dataframe thead th {\n",
       "        text-align: right;\n",
       "    }\n",
       "</style>\n",
       "<table border=\"1\" class=\"dataframe\">\n",
       "  <thead>\n",
       "    <tr style=\"text-align: right;\">\n",
       "      <th></th>\n",
       "      <th>bedrooms</th>\n",
       "      <th>bathrooms</th>\n",
       "      <th>square_feet</th>\n",
       "    </tr>\n",
       "  </thead>\n",
       "  <tbody>\n",
       "    <tr>\n",
       "      <th>2994</th>\n",
       "      <td>4.0</td>\n",
       "      <td>4.5</td>\n",
       "      <td>4052.0</td>\n",
       "    </tr>\n",
       "    <tr>\n",
       "      <th>16821</th>\n",
       "      <td>4.0</td>\n",
       "      <td>3.5</td>\n",
       "      <td>3238.0</td>\n",
       "    </tr>\n",
       "    <tr>\n",
       "      <th>35637</th>\n",
       "      <td>4.0</td>\n",
       "      <td>4.0</td>\n",
       "      <td>4342.0</td>\n",
       "    </tr>\n",
       "    <tr>\n",
       "      <th>40761</th>\n",
       "      <td>4.0</td>\n",
       "      <td>2.0</td>\n",
       "      <td>1792.0</td>\n",
       "    </tr>\n",
       "    <tr>\n",
       "      <th>42782</th>\n",
       "      <td>2.0</td>\n",
       "      <td>1.0</td>\n",
       "      <td>614.0</td>\n",
       "    </tr>\n",
       "  </tbody>\n",
       "</table>\n",
       "</div>"
      ],
      "text/plain": [
       "      bedrooms bathrooms square_feet\n",
       "2994       4.0       4.5      4052.0\n",
       "16821      4.0       3.5      3238.0\n",
       "35637      4.0       4.0      4342.0\n",
       "40761      4.0       2.0      1792.0\n",
       "42782      2.0       1.0       614.0"
      ]
     },
     "execution_count": 29,
     "metadata": {},
     "output_type": "execute_result"
    }
   ],
   "source": [
    "X_train_transformed = pd.DataFrame(\n",
    "    kbest.transform(X_train),\n",
    "    index=X_train.index,\n",
    "    columns=X_train.columns[kbest.get_support()]\n",
    ")\n",
    "X_train_transformed.head().sort_index()"
   ]
  },
  {
   "cell_type": "markdown",
   "id": "1b02fd8f-d59e-4f69-b290-f104110961a4",
   "metadata": {},
   "source": [
    "### Feature Engineering: RFE"
   ]
  },
  {
   "cell_type": "code",
   "execution_count": 30,
   "id": "fb3a9ecd-5c94-4822-8867-52975c0bc52a",
   "metadata": {},
   "outputs": [],
   "source": [
    "def scaled_data(X_train, X_validate, X_test, continuous_cols):\n",
    "\n",
    "    scaler = sklearn.preprocessing.MinMaxScaler()\n",
    "\n",
    "    # Fit the scaler, (fit the thing)\n",
    "    scaler.fit(X_train[continuous_cols])\n",
    "\n",
    "    # Use the scaler to transform train, validate, test (use the thing) and make them into dataframes\n",
    "    X_train_scaled = pd.DataFrame(scaler.transform(X_train[continuous_cols]), index=X_train.index, columns=X_train[continuous_cols].columns)\n",
    "    X_validate_scaled = pd.DataFrame(scaler.transform(X_validate[continuous_cols]), index=X_validate.index, columns=X_validate[continuous_cols].columns)\n",
    "    X_test_scaled = pd.DataFrame(scaler.transform(X_test[continuous_cols]), index=X_test.index, columns=X_test[continuous_cols].columns)\n",
    "                                        \n",
    "                                        \n",
    "    \n",
    "    return X_train_scaled, X_validate_scaled, X_test_scaled "
   ]
  },
  {
   "cell_type": "code",
   "execution_count": 31,
   "id": "f6f90939-7847-46da-a0a6-d3413cb346f0",
   "metadata": {},
   "outputs": [
    {
     "data": {
      "text/plain": [
       "((29296, 6), (12556, 7), (10463, 7))"
      ]
     },
     "execution_count": 31,
     "metadata": {},
     "output_type": "execute_result"
    }
   ],
   "source": [
    "X_train.shape, X_validate.shape, X_test.shape"
   ]
  },
  {
   "cell_type": "code",
   "execution_count": 33,
   "id": "a0ba00bb-507e-462f-adef-2668636b34e8",
   "metadata": {},
   "outputs": [],
   "source": [
    "X_train_scaled, X_validate_scaled, X_test_scaled = scaled_data(X_train, X_validate, X_test,['bedrooms','bathrooms','square_feet', 'year_built'])\n"
   ]
  },
  {
   "cell_type": "code",
   "execution_count": 34,
   "id": "1d606fbd-fdfc-439d-ab6b-b519b37c4e5a",
   "metadata": {},
   "outputs": [
    {
     "data": {
      "text/html": [
       "<div>\n",
       "<style scoped>\n",
       "    .dataframe tbody tr th:only-of-type {\n",
       "        vertical-align: middle;\n",
       "    }\n",
       "\n",
       "    .dataframe tbody tr th {\n",
       "        vertical-align: top;\n",
       "    }\n",
       "\n",
       "    .dataframe thead th {\n",
       "        text-align: right;\n",
       "    }\n",
       "</style>\n",
       "<table border=\"1\" class=\"dataframe\">\n",
       "  <thead>\n",
       "    <tr style=\"text-align: right;\">\n",
       "      <th></th>\n",
       "      <th>bedrooms</th>\n",
       "      <th>bathrooms</th>\n",
       "      <th>square_feet</th>\n",
       "      <th>year_built</th>\n",
       "    </tr>\n",
       "  </thead>\n",
       "  <tbody>\n",
       "    <tr>\n",
       "      <th>42782</th>\n",
       "      <td>0.142857</td>\n",
       "      <td>0.055556</td>\n",
       "      <td>0.022293</td>\n",
       "      <td>0.326087</td>\n",
       "    </tr>\n",
       "    <tr>\n",
       "      <th>40761</th>\n",
       "      <td>0.285714</td>\n",
       "      <td>0.111111</td>\n",
       "      <td>0.076327</td>\n",
       "      <td>0.500000</td>\n",
       "    </tr>\n",
       "    <tr>\n",
       "      <th>2994</th>\n",
       "      <td>0.285714</td>\n",
       "      <td>0.250000</td>\n",
       "      <td>0.179992</td>\n",
       "      <td>0.913043</td>\n",
       "    </tr>\n",
       "    <tr>\n",
       "      <th>35637</th>\n",
       "      <td>0.285714</td>\n",
       "      <td>0.222222</td>\n",
       "      <td>0.193294</td>\n",
       "      <td>0.572464</td>\n",
       "    </tr>\n",
       "    <tr>\n",
       "      <th>16821</th>\n",
       "      <td>0.285714</td>\n",
       "      <td>0.194444</td>\n",
       "      <td>0.142654</td>\n",
       "      <td>0.789855</td>\n",
       "    </tr>\n",
       "  </tbody>\n",
       "</table>\n",
       "</div>"
      ],
      "text/plain": [
       "       bedrooms  bathrooms  square_feet  year_built\n",
       "42782  0.142857   0.055556     0.022293    0.326087\n",
       "40761  0.285714   0.111111     0.076327    0.500000\n",
       "2994   0.285714   0.250000     0.179992    0.913043\n",
       "35637  0.285714   0.222222     0.193294    0.572464\n",
       "16821  0.285714   0.194444     0.142654    0.789855"
      ]
     },
     "execution_count": 34,
     "metadata": {},
     "output_type": "execute_result"
    }
   ],
   "source": [
    "X_train_scaled.head()"
   ]
  },
  {
   "cell_type": "code",
   "execution_count": 35,
   "id": "bdc36dfb-4b93-4b08-8796-fa970b1faf37",
   "metadata": {},
   "outputs": [],
   "source": [
    "from sklearn.linear_model import LinearRegression\n",
    "from sklearn.feature_selection import RFE"
   ]
  },
  {
   "cell_type": "code",
   "execution_count": 36,
   "id": "e1a28d16-50c2-42c4-bd7e-bea237dcbac8",
   "metadata": {},
   "outputs": [
    {
     "data": {
      "text/html": [
       "<div>\n",
       "<style scoped>\n",
       "    .dataframe tbody tr th:only-of-type {\n",
       "        vertical-align: middle;\n",
       "    }\n",
       "\n",
       "    .dataframe tbody tr th {\n",
       "        vertical-align: top;\n",
       "    }\n",
       "\n",
       "    .dataframe thead th {\n",
       "        text-align: right;\n",
       "    }\n",
       "</style>\n",
       "<table border=\"1\" class=\"dataframe\">\n",
       "  <thead>\n",
       "    <tr style=\"text-align: right;\">\n",
       "      <th></th>\n",
       "      <th>rfe_ranking</th>\n",
       "    </tr>\n",
       "  </thead>\n",
       "  <tbody>\n",
       "    <tr>\n",
       "      <th>bedrooms</th>\n",
       "      <td>1</td>\n",
       "    </tr>\n",
       "    <tr>\n",
       "      <th>bathrooms</th>\n",
       "      <td>1</td>\n",
       "    </tr>\n",
       "    <tr>\n",
       "      <th>year_built</th>\n",
       "      <td>2</td>\n",
       "    </tr>\n",
       "    <tr>\n",
       "      <th>square_feet</th>\n",
       "      <td>3</td>\n",
       "    </tr>\n",
       "    <tr>\n",
       "      <th>geo_code</th>\n",
       "      <td>4</td>\n",
       "    </tr>\n",
       "    <tr>\n",
       "      <th>county_id</th>\n",
       "      <td>5</td>\n",
       "    </tr>\n",
       "  </tbody>\n",
       "</table>\n",
       "</div>"
      ],
      "text/plain": [
       "             rfe_ranking\n",
       "bedrooms               1\n",
       "bathrooms              1\n",
       "year_built             2\n",
       "square_feet            3\n",
       "geo_code               4\n",
       "county_id              5"
      ]
     },
     "execution_count": 36,
     "metadata": {},
     "output_type": "execute_result"
    }
   ],
   "source": [
    "model = LinearRegression()\n",
    "# Make the thing\n",
    "rfe = RFE(model, n_features_to_select=2)\n",
    "# Fit the thing\n",
    "rfe.fit(X_train, y_train)\n",
    "# Obtain results in dataframe\n",
    "pd.DataFrame({'rfe_ranking': rfe.ranking_}, index=X_train.columns).sort_values(by = 'rfe_ranking')"
   ]
  },
  {
   "cell_type": "code",
   "execution_count": 37,
   "id": "3a1a4dce-616f-4627-aa16-afd1b05e2e4f",
   "metadata": {},
   "outputs": [
    {
     "data": {
      "text/plain": [
       "Index(['bedrooms', 'bathrooms'], dtype='object')"
      ]
     },
     "execution_count": 37,
     "metadata": {},
     "output_type": "execute_result"
    }
   ],
   "source": [
    "X_train.columns[rfe.get_support()]"
   ]
  },
  {
   "cell_type": "markdown",
   "id": "7e0371ac-7202-4f3e-8760-66f2e4e631fb",
   "metadata": {},
   "source": [
    "## SIMPLE MODEL"
   ]
  },
  {
   "cell_type": "code",
   "execution_count": 42,
   "id": "b59609e6-ae2f-4d6c-89b4-f9b6c5c4f1b7",
   "metadata": {},
   "outputs": [],
   "source": [
    "predictions = pd.DataFrame({\n",
    "    'actual': validate.tax_value\n",
    "}) "
   ]
  },
  {
   "cell_type": "code",
   "execution_count": 45,
   "id": "688733de-9310-4a37-9a79-07bb6590fa1e",
   "metadata": {},
   "outputs": [
    {
     "data": {
      "text/html": [
       "<div>\n",
       "<style scoped>\n",
       "    .dataframe tbody tr th:only-of-type {\n",
       "        vertical-align: middle;\n",
       "    }\n",
       "\n",
       "    .dataframe tbody tr th {\n",
       "        vertical-align: top;\n",
       "    }\n",
       "\n",
       "    .dataframe thead th {\n",
       "        text-align: right;\n",
       "    }\n",
       "</style>\n",
       "<table border=\"1\" class=\"dataframe\">\n",
       "  <thead>\n",
       "    <tr style=\"text-align: right;\">\n",
       "      <th></th>\n",
       "      <th>actual</th>\n",
       "      <th>simple_lm</th>\n",
       "    </tr>\n",
       "  </thead>\n",
       "  <tbody>\n",
       "    <tr>\n",
       "      <th>36356</th>\n",
       "      <td>869393.0</td>\n",
       "      <td>1.198849e+06</td>\n",
       "    </tr>\n",
       "    <tr>\n",
       "      <th>8203</th>\n",
       "      <td>594000.0</td>\n",
       "      <td>1.067361e+04</td>\n",
       "    </tr>\n",
       "    <tr>\n",
       "      <th>51688</th>\n",
       "      <td>341714.0</td>\n",
       "      <td>4.067321e+05</td>\n",
       "    </tr>\n",
       "    <tr>\n",
       "      <th>49648</th>\n",
       "      <td>237168.0</td>\n",
       "      <td>1.067361e+04</td>\n",
       "    </tr>\n",
       "    <tr>\n",
       "      <th>41798</th>\n",
       "      <td>535298.0</td>\n",
       "      <td>4.067321e+05</td>\n",
       "    </tr>\n",
       "  </tbody>\n",
       "</table>\n",
       "</div>"
      ],
      "text/plain": [
       "         actual     simple_lm\n",
       "36356  869393.0  1.198849e+06\n",
       "8203   594000.0  1.067361e+04\n",
       "51688  341714.0  4.067321e+05\n",
       "49648  237168.0  1.067361e+04\n",
       "41798  535298.0  4.067321e+05"
      ]
     },
     "execution_count": 45,
     "metadata": {},
     "output_type": "execute_result"
    }
   ],
   "source": [
    "predictions.head()"
   ]
  },
  {
   "cell_type": "code",
   "execution_count": 46,
   "id": "25a87a97-4800-4cc1-b9b3-57d3fcdf7dae",
   "metadata": {},
   "outputs": [],
   "source": [
    "from sklearn.linear_model import LinearRegression\n",
    "\n",
    "# X must be 2-d\n",
    "X_train = train[['bathrooms']]\n",
    "# y can be 1-d\n",
    "y_train = train.tax_value\n",
    "\n",
    "# 1. make the thing\n",
    "lm = LinearRegression()\n",
    "# 2. fit the thing\n",
    "lm.fit(X_train, y_train)\n",
    "# 3. use the thing (make predictions)\n",
    "X_validate = validate[['bathrooms']]\n",
    "predictions['simple_lm'] = lm.predict(X_validate)"
   ]
  },
  {
   "cell_type": "code",
   "execution_count": 47,
   "id": "92b2f790-4b0b-4c3e-83b9-9864c9234b88",
   "metadata": {},
   "outputs": [
    {
     "data": {
      "text/html": [
       "<div>\n",
       "<style scoped>\n",
       "    .dataframe tbody tr th:only-of-type {\n",
       "        vertical-align: middle;\n",
       "    }\n",
       "\n",
       "    .dataframe tbody tr th {\n",
       "        vertical-align: top;\n",
       "    }\n",
       "\n",
       "    .dataframe thead th {\n",
       "        text-align: right;\n",
       "    }\n",
       "</style>\n",
       "<table border=\"1\" class=\"dataframe\">\n",
       "  <thead>\n",
       "    <tr style=\"text-align: right;\">\n",
       "      <th></th>\n",
       "      <th>actual</th>\n",
       "      <th>simple_lm</th>\n",
       "    </tr>\n",
       "  </thead>\n",
       "  <tbody>\n",
       "    <tr>\n",
       "      <th>36356</th>\n",
       "      <td>869393.0</td>\n",
       "      <td>1.198849e+06</td>\n",
       "    </tr>\n",
       "    <tr>\n",
       "      <th>8203</th>\n",
       "      <td>594000.0</td>\n",
       "      <td>1.067361e+04</td>\n",
       "    </tr>\n",
       "    <tr>\n",
       "      <th>51688</th>\n",
       "      <td>341714.0</td>\n",
       "      <td>4.067321e+05</td>\n",
       "    </tr>\n",
       "    <tr>\n",
       "      <th>49648</th>\n",
       "      <td>237168.0</td>\n",
       "      <td>1.067361e+04</td>\n",
       "    </tr>\n",
       "    <tr>\n",
       "      <th>41798</th>\n",
       "      <td>535298.0</td>\n",
       "      <td>4.067321e+05</td>\n",
       "    </tr>\n",
       "  </tbody>\n",
       "</table>\n",
       "</div>"
      ],
      "text/plain": [
       "         actual     simple_lm\n",
       "36356  869393.0  1.198849e+06\n",
       "8203   594000.0  1.067361e+04\n",
       "51688  341714.0  4.067321e+05\n",
       "49648  237168.0  1.067361e+04\n",
       "41798  535298.0  4.067321e+05"
      ]
     },
     "execution_count": 47,
     "metadata": {},
     "output_type": "execute_result"
    }
   ],
   "source": [
    "predictions.head()"
   ]
  },
  {
   "cell_type": "code",
   "execution_count": 48,
   "id": "67de4354-195f-481e-beba-8e50575ba270",
   "metadata": {},
   "outputs": [
    {
     "data": {
      "text/plain": [
       "(array([396058.4669052]), -385384.86042416387)"
      ]
     },
     "execution_count": 48,
     "metadata": {},
     "output_type": "execute_result"
    }
   ],
   "source": [
    "lm.coef_, lm.intercept_"
   ]
  },
  {
   "cell_type": "code",
   "execution_count": 49,
   "id": "ce4dad1f-57da-49b9-b841-7cbbef3018b7",
   "metadata": {},
   "outputs": [
    {
     "name": "stdout",
     "output_type": "stream",
     "text": [
      "tax_value = 396058.467 * bathrooms + -385384.860\n"
     ]
    }
   ],
   "source": [
    "print('tax_value = {:.3f} * bathrooms + {:.3f}'.format(lm.coef_[0], lm.intercept_))"
   ]
  },
  {
   "cell_type": "code",
   "execution_count": 53,
   "id": "d7cb8405-12a6-4e16-962d-c4e99447c979",
   "metadata": {},
   "outputs": [
    {
     "data": {
      "text/plain": [
       "<matplotlib.legend.Legend at 0x7fea69ab2730>"
      ]
     },
     "execution_count": 53,
     "metadata": {},
     "output_type": "execute_result"
    },
    {
     "data": {
      "image/png": "[encoded data removed]",
      "text/plain": [
       "<Figure size 1152x648 with 1 Axes>"
      ]
     },
     "metadata": {
      "needs_background": "light"
     },
     "output_type": "display_data"
    }
   ],
   "source": [
    "x_pred = np.array([0, 10]).reshape(-1, 1)\n",
    "y_pred = lm.predict(x_pred)\n",
    "\n",
    "plt.figure(figsize=(16, 9))\n",
    "plt.scatter(train.bathrooms, train.tax_value, label='actual')\n",
    "plt.scatter(train.bathrooms, lm.predict(train[['bathrooms']]), label='simple_lm')\n",
    "plt.plot(x_pred, y_pred, ls='--', c='black', label='linear model prediction line')\n",
    "\n",
    "\n",
    "plt.xlabel('Bathrooms')\n",
    "plt.ylabel('Tax Value')\n",
    "plt.legend()"
   ]
  },
  {
   "cell_type": "code",
   "execution_count": null,
   "id": "aaf6e5c1-0e6c-4f0a-80c0-04b6682551df",
   "metadata": {},
   "outputs": [],
   "source": [
    "Turn continuous into categorical example houses greater than or less than (square feet)."
   ]
  }
 ],
 "metadata": {
  "kernelspec": {
   "display_name": "Python 3 (ipykernel)",
   "language": "python",
   "name": "python3"
  },
  "language_info": {
   "codemirror_mode": {
    "name": "ipython",
    "version": 3
   },
   "file_extension": ".py",
   "mimetype": "text/x-python",
   "name": "python",
   "nbconvert_exporter": "python",
   "pygments_lexer": "ipython3",
   "version": "3.9.7"
  }
 },
 "nbformat": 4,
 "nbformat_minor": 5
}
