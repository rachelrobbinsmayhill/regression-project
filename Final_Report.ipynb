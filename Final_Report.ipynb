{
 "cells": [
  {
   "cell_type": "markdown",
   "id": "a58483cc-0e93-4670-ac94-330581ac2dbf",
   "metadata": {},
   "source": [
    "## ZILLOW PROJECT - FINAL REPORT"
   ]
  },
  {
   "cell_type": "markdown",
   "id": "834ce043-6ebb-40c7-b6c1-aee78662c23a",
   "metadata": {},
   "source": [
    "Project & Report Created By: Rachel Robbins-Mayhill 2022-03-29"
   ]
  },
  {
   "cell_type": "markdown",
   "id": "414ec5bb-b333-4627-abd4-950cc36e9d0d",
   "metadata": {},
   "source": [
    "---"
   ]
  },
  {
   "cell_type": "markdown",
   "id": "9001d80f-158b-4581-a35c-cb742bb9d475",
   "metadata": {},
   "source": [
    "## PROJECT DESCRIPTION"
   ]
  },
  {
   "cell_type": "markdown",
   "id": "fd1a162b-de43-4b0e-8f7b-1cc9dc7edf14",
   "metadata": {},
   "source": [
    "Zillow is the leading real estate and rental marketplace dedicated to empowering consumers with data, inspiration and knowledge around the place they call home, and connecting them with the best local professionals who can help. According to the National Association of Realtors, there are over 119 million homes in the United States, over 5 million of which are sold each year. 80% of these homes have been viewed on Zillow regardless of their market status.\n",
    "\n",
    "Zillow serves the full lifecycle of owning and living in a home: buying, selling, renting, financing, remodeling and more. It starts with Zillow's living database of more than 110 million U.S. homes - including homes for sale, homes for rent and homes not currently on the market, as well as Zestimate home values, Rent Zestimates and other home-related information. \n",
    "\n",
    "The Zestimate is a key element driving webtraffic to Zillow, where sellers, buyers, agents, and curiosity-seekers gain knowledge of a home's value. In fact, over the years, Zillow has built a solid reputation around the Zestimate. The Zestimate takes in layers of data regarding a homes features and location and presents buyers and sellars with a value of a home. Zillow publishes Zestimates for 104 million homes, updating them weekly.\n",
    "\n",
    "Although Zillow has a model to assist in predicting a home's value, they are looking to fine-tune the model and improve upon it. This project has been requested by the Zillow Data Science Team. \n"
   ]
  },
  {
   "cell_type": "markdown",
   "id": "7230a6f0-ba49-46d6-8cd5-98dd8980bd77",
   "metadata": {},
   "source": [
    "### PROJECT GOAL"
   ]
  },
  {
   "cell_type": "markdown",
   "id": "ed842319-8840-44ab-b76c-8e795352fa15",
   "metadata": {},
   "source": [
    "The goal of this project is to find key drivers of property value for Single Family Properties and to construct an improved Machine Learning Regression Model to predict property tax assessed values for these properties using the features of the properties. The improved model will help Zillow develop more accurate, dependable, and trustworthy Zestimates, thus sustaining and bolstering their loyal customer base. \n",
    "\n",
    "Upon completion of the model, the project will make recommendations on what does and doesn't impact property values and deliver the recommendations in a report to the Data Science team at Zillow, so they can understand the process that developed the conclusion and have the information available to replicate the findings. \n"
   ]
  },
  {
   "cell_type": "markdown",
   "id": "926c2ea6-9e1f-4549-968e-3e6033563570",
   "metadata": {},
   "source": [
    "### INITIAL QUESTIONS"
   ]
  },
  {
   "cell_type": "markdown",
   "id": "f030607f-de57-482a-9b5d-afe7a1ff2008",
   "metadata": {},
   "source": [
    "1. Is square feet of a property a driver of property value while controling for location?\n",
    "2. Are the number of bedrooms and bathrooms a driver of the value of a property when controlling for square footage?\n",
    "3. Is the square footage a driver of the value of a property when controllng for bedrooms and bathrooms?\n",
    "4. Is adding a bedroom more valuable than adding square footage?"
   ]
  },
  {
   "cell_type": "markdown",
   "id": "630b1687-852c-44ce-9630-23779f8efbbe",
   "metadata": {},
   "source": [
    "---"
   ]
  },
  {
   "cell_type": "markdown",
   "id": "4d2c268d-f223-4404-8084-f96aa6c51987",
   "metadata": {},
   "source": [
    "Imports used for this project can be viewed in the imports.py file located in the Regresssion Project Repository. "
   ]
  },
  {
   "cell_type": "code",
   "execution_count": 11,
   "id": "b17269cc-4762-4400-a725-173b29f7f100",
   "metadata": {},
   "outputs": [],
   "source": [
    "from imports import *\n",
    "import prepare"
   ]
  },
  {
   "cell_type": "markdown",
   "id": "d5104cd4-2f18-4037-85c0-9e961eb8067a",
   "metadata": {},
   "source": [
    "## AQUISITION & PREPARATION OF DATA"
   ]
  },
  {
   "cell_type": "markdown",
   "id": "4393c41e-21a2-4590-a626-2b470f79492e",
   "metadata": {},
   "source": [
    "### I. Acquire the Data"
   ]
  },
  {
   "cell_type": "markdown",
   "id": "79c38935-2c9b-41af-9733-52b10f00760d",
   "metadata": {},
   "source": [
    "The data for this report was acquired by accessing 'zillow' from the Codeup SQL database.\n",
    "The following query was used to acquire the data:\n",
    "   \n",
    "   ________________________________________________________\n",
    "    \n",
    "    SELECT bedroomcnt AS bedrooms, \n",
    "        bathroomcnt AS bathrooms, \n",
    "        calculatedfinishedsquarefeet AS square_feet, \n",
    "        taxvaluedollarcnt AS assessed_value, \n",
    "        yearbuilt AS year_built, \n",
    "        taxamount AS tax_amount, \n",
    "        fips AS state_county_code,\n",
    "        regionidcounty AS county_id\n",
    "    FROM properties_2017\n",
    "    JOIN predictions_2017 USING (parcelid)\n",
    "    JOIN propertylandusetype USING(propertylandusetypeid)\n",
    "    WHERE propertylandusedesc IN (\"Single Family Residential\",                       \n",
    "                                  \"Inferred Single Family Residential\")\n",
    "                                  AND predictions_2017.transactiondate LIKE '2017%%'\n",
    "                                  "
   ]
  },
  {
   "cell_type": "code",
   "execution_count": 15,
   "id": "156e8918-b272-4ab7-815f-3ab0dba0872c",
   "metadata": {},
   "outputs": [
    {
     "name": "stdout",
     "output_type": "stream",
     "text": [
      "Reading from csv file...\n"
     ]
    },
    {
     "data": {
      "text/plain": [
       "(52441, 8)"
      ]
     },
     "execution_count": 15,
     "metadata": {},
     "output_type": "execute_result"
    }
   ],
   "source": [
    "# Acquire data from SQL using module found in acquire.py\n",
    "df = acquire.get_zillow_data()\n",
    "# Obtain number of rows and columns for orginal dataframe\n",
    "df.shape"
   ]
  },
  {
   "cell_type": "markdown",
   "id": "749d59ac-5737-4a5c-b2ef-b8fea5d1c5fa",
   "metadata": {},
   "source": [
    "- Once acquired, a new table (Dataframe) containing all necessary data was created. \n",
    "- The table consisted of 52_2441 rows and 8 columns."
   ]
  },
  {
   "cell_type": "markdown",
   "id": "ca2316cb-0139-41cf-828a-c506f9d708a8",
   "metadata": {},
   "source": [
    "### II. Prepare the Data"
   ]
  },
  {
   "cell_type": "markdown",
   "id": "762ecad0-414f-40ae-80cf-cda24b9c7df4",
   "metadata": {},
   "source": [
    "This acquired table was then analyzed and adjusted to eliminate data errors, clarify confusion, and code non-numeric data into more useful numeric types. \n",
    "Some of the data correction strategies that were employed were:\n",
    "\n",
    "Addressing Missing Data\n",
    "\n",
    " - Dropping 126 rows that contained missing values, as it was a very small portion of our data\n",
    "\n",
    "Dropping Unnecessary Columns\n",
    "\n",
    "Rename Columns\n",
    "\n",
    "Standardize Data Types\n",
    "\n",
    "Create categorical columns for data visualization and analysis:\n",
    "\n",
    "Create Numeric Data Types for Data that was in Word From\n",
    "\n",
    "The following columns needed to be transformed to numeric values:"
   ]
  },
  {
   "cell_type": "code",
   "execution_count": 16,
   "id": "e9b0751f-c7c5-4c97-93ed-bd411101d4c7",
   "metadata": {},
   "outputs": [
    {
     "data": {
      "text/plain": [
       "(52315, 14)"
      ]
     },
     "execution_count": 16,
     "metadata": {},
     "output_type": "execute_result"
    }
   ],
   "source": [
    "df = prepare.wrangle_zillow(df)\n",
    "df.head()\n",
    "df.shape"
   ]
  },
  {
   "cell_type": "markdown",
   "id": "a721bf93-a0b5-4c0c-9895-dd3752ddd4c1",
   "metadata": {},
   "source": [
    "- Upon completion of cleaning, the table had 52_315 rows and 14 columns.\n"
   ]
  },
  {
   "cell_type": "code",
   "execution_count": null,
   "id": "1ac406d0-e7a0-46b8-829a-064a6045e490",
   "metadata": {},
   "outputs": [],
   "source": []
  },
  {
   "cell_type": "code",
   "execution_count": null,
   "id": "2bf0b12f-0475-42f1-9c56-7da96dfe3336",
   "metadata": {},
   "outputs": [],
   "source": []
  },
  {
   "cell_type": "markdown",
   "id": "52a278c8-343b-4e16-8ed5-64d6790250b1",
   "metadata": {},
   "source": [
    "### Results of Preparing the Data"
   ]
  },
  {
   "cell_type": "code",
   "execution_count": null,
   "id": "db777053-fca5-49e6-9e66-ec4410223178",
   "metadata": {},
   "outputs": [],
   "source": []
  },
  {
   "cell_type": "markdown",
   "id": "d02f7298-6d3e-4738-ae12-abbea0f86df5",
   "metadata": {},
   "source": [
    "### Splitting the Data"
   ]
  },
  {
   "cell_type": "code",
   "execution_count": null,
   "id": "11dd8648-a837-4cc3-97c3-e5472dcc8594",
   "metadata": {},
   "outputs": [],
   "source": []
  },
  {
   "cell_type": "markdown",
   "id": "b33772ac-1c1e-46f0-a879-5f44476e9533",
   "metadata": {},
   "source": [
    "### Scaling the Data"
   ]
  },
  {
   "cell_type": "code",
   "execution_count": null,
   "id": "f14e444c-f4db-4fe7-9cb4-12a77046a97b",
   "metadata": {},
   "outputs": [],
   "source": []
  },
  {
   "cell_type": "markdown",
   "id": "f26a2a6a-afc6-4547-8198-d553f2183c7d",
   "metadata": {},
   "source": [
    "---"
   ]
  },
  {
   "cell_type": "markdown",
   "id": "c1ea3c93-6b1c-4209-b55a-21346ad5b0c0",
   "metadata": {},
   "source": [
    "## DATA EXPLORATION - Data in Context"
   ]
  },
  {
   "cell_type": "markdown",
   "id": "c4e937dc-56e2-440b-8bbe-b4120141cd18",
   "metadata": {},
   "source": [
    "### Correlations"
   ]
  },
  {
   "cell_type": "markdown",
   "id": "d3e0489e-7168-462e-972c-775a2648653f",
   "metadata": {},
   "source": [
    "### Exploratory Questions"
   ]
  },
  {
   "cell_type": "markdown",
   "id": "166aea17-4bc2-422c-89a5-eff31a729d93",
   "metadata": {},
   "source": [
    "## QUESTION 1:"
   ]
  },
  {
   "cell_type": "markdown",
   "id": "26aba6f5-2099-4e35-9f3d-fa14e62ddf58",
   "metadata": {},
   "source": [
    "## QUESTION 2:"
   ]
  },
  {
   "cell_type": "markdown",
   "id": "daeccc5b-1adc-4571-9408-941668b6d7e2",
   "metadata": {},
   "source": [
    "## QUESTION 3:"
   ]
  },
  {
   "cell_type": "markdown",
   "id": "4621a1f5-25ca-445e-aef0-6cc12ef3f34e",
   "metadata": {},
   "source": [
    "### Hypothesis Testing"
   ]
  },
  {
   "cell_type": "markdown",
   "id": "88fdbe3c-e00a-4c28-828c-838eb10aba85",
   "metadata": {},
   "source": [
    "## Exploration Takeaways:"
   ]
  },
  {
   "cell_type": "markdown",
   "id": "95c9eb16-c179-415f-9c70-7b5a988fe889",
   "metadata": {},
   "source": [
    "---"
   ]
  },
  {
   "cell_type": "markdown",
   "id": "b84bd21a-f8c3-4e28-8576-545a4d05d05a",
   "metadata": {},
   "source": [
    "## DATA MODELING"
   ]
  },
  {
   "cell_type": "markdown",
   "id": "ad102de3-093e-433a-8bc0-2d735b2c778d",
   "metadata": {},
   "source": [
    "### Baseline"
   ]
  },
  {
   "cell_type": "markdown",
   "id": "e5bd86bf-5861-45fb-be1a-6eaa4846076c",
   "metadata": {},
   "source": [
    "### Best Models"
   ]
  },
  {
   "cell_type": "markdown",
   "id": "5cd70d33-c084-4e57-98b7-7f054076d086",
   "metadata": {},
   "source": [
    "---"
   ]
  },
  {
   "cell_type": "markdown",
   "id": "47c209d3-9c0a-4730-a414-2fd6fc2dbdb2",
   "metadata": {},
   "source": [
    "## CONCLUSION"
   ]
  },
  {
   "cell_type": "markdown",
   "id": "50456862-c641-4377-8a73-f979c5cb4de9",
   "metadata": {},
   "source": [
    "### Summary\n",
    "The goal of this report was to identify drivers of property tax assessed value for Single Family Residences, and to construct an improved Machine Learning Regression Model to predict property tax assessed values for these properties using the features of the properties themselves. Additionally, this report aimed to make recommendations on what does and doesn't impact property values \n",
    "\n",
    "Through the process of data acquisition, preparation, exploration, and statistical testing, it was determined drivers of property tax assessed value for Single Family Residences were:\n",
    "\n",
    "- 1: total rooms (bedrooms and bathrooms combined)\n",
    "- 1: location -> Orange County\n",
    "- 1. loaction -> Ventura County\n",
    "- 1. location -> Los Angelas County\n",
    "- 2. year built\n",
    "- 3. square_feet\n",
    "\n",
    "\n",
    "By using machine learning modeling, predictions to \n",
    "\n",
    "\n",
    "\n",
    "\n",
    "\n",
    "prevent churn were made with 80% accuracy within the best performing model. Using the modeling, a list of customers predicted to churn was created, to be useful in developing mechanisms within marketing and customer retention teams to prevent churn in high-risk customer groups.\n"
   ]
  },
  {
   "cell_type": "markdown",
   "id": "bbbb6018-64b6-4442-a52c-1fe946ca136d",
   "metadata": {},
   "source": [
    "### Recommendations"
   ]
  },
  {
   "cell_type": "markdown",
   "id": "89e4b9e4-54de-465b-a6bc-dbcbd9ee1db5",
   "metadata": {},
   "source": [
    "### Next Steps"
   ]
  }
 ],
 "metadata": {
  "kernelspec": {
   "display_name": "Python 3 (ipykernel)",
   "language": "python",
   "name": "python3"
  },
  "language_info": {
   "codemirror_mode": {
    "name": "ipython",
    "version": 3
   },
   "file_extension": ".py",
   "mimetype": "text/x-python",
   "name": "python",
   "nbconvert_exporter": "python",
   "pygments_lexer": "ipython3",
   "version": "3.9.7"
  }
 },
 "nbformat": 4,
 "nbformat_minor": 5
}
