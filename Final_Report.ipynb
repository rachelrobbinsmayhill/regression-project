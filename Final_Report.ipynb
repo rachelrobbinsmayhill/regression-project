{
 "cells": [
  {
   "cell_type": "markdown",
   "id": "a58483cc-0e93-4670-ac94-330581ac2dbf",
   "metadata": {},
   "source": [
    "## ZILLOW PROJECT - FINAL REPORT"
   ]
  },
  {
   "cell_type": "markdown",
   "id": "834ce043-6ebb-40c7-b6c1-aee78662c23a",
   "metadata": {},
   "source": [
    "Project & Report Created By: Rachel Robbins-Mayhill"
   ]
  },
  {
   "cell_type": "markdown",
   "id": "414ec5bb-b333-4627-abd4-950cc36e9d0d",
   "metadata": {},
   "source": [
    "---"
   ]
  },
  {
   "cell_type": "markdown",
   "id": "9001d80f-158b-4581-a35c-cb742bb9d475",
   "metadata": {},
   "source": [
    "## PROJECT DESCRIPTION"
   ]
  },
  {
   "cell_type": "markdown",
   "id": "7230a6f0-ba49-46d6-8cd5-98dd8980bd77",
   "metadata": {},
   "source": [
    "### PROJECT GOAL"
   ]
  },
  {
   "cell_type": "markdown",
   "id": "926c2ea6-9e1f-4549-968e-3e6033563570",
   "metadata": {},
   "source": [
    "### INITIAL QUESTIONS"
   ]
  },
  {
   "cell_type": "markdown",
   "id": "630b1687-852c-44ce-9630-23779f8efbbe",
   "metadata": {},
   "source": [
    "---"
   ]
  },
  {
   "cell_type": "markdown",
   "id": "d5104cd4-2f18-4037-85c0-9e961eb8067a",
   "metadata": {},
   "source": [
    "## AQUISITION & PREPARATION OF DATA"
   ]
  },
  {
   "cell_type": "markdown",
   "id": "4393c41e-21a2-4590-a626-2b470f79492e",
   "metadata": {},
   "source": [
    "### I. Acquire the Data"
   ]
  },
  {
   "cell_type": "markdown",
   "id": "ca2316cb-0139-41cf-828a-c506f9d708a8",
   "metadata": {},
   "source": [
    "### II. Prepare the Data"
   ]
  },
  {
   "cell_type": "markdown",
   "id": "52a278c8-343b-4e16-8ed5-64d6790250b1",
   "metadata": {},
   "source": [
    "### Results of Preparing the Data"
   ]
  },
  {
   "cell_type": "markdown",
   "id": "d02f7298-6d3e-4738-ae12-abbea0f86df5",
   "metadata": {},
   "source": [
    "### Splitting the Data"
   ]
  },
  {
   "cell_type": "markdown",
   "id": "b33772ac-1c1e-46f0-a879-5f44476e9533",
   "metadata": {},
   "source": [
    "### Scaling the Data"
   ]
  },
  {
   "cell_type": "markdown",
   "id": "f26a2a6a-afc6-4547-8198-d553f2183c7d",
   "metadata": {},
   "source": [
    "---"
   ]
  },
  {
   "cell_type": "markdown",
   "id": "c1ea3c93-6b1c-4209-b55a-21346ad5b0c0",
   "metadata": {},
   "source": [
    "## DATA EXPLORATION - Data in Context"
   ]
  },
  {
   "cell_type": "markdown",
   "id": "c4e937dc-56e2-440b-8bbe-b4120141cd18",
   "metadata": {},
   "source": [
    "### Correlations"
   ]
  },
  {
   "cell_type": "markdown",
   "id": "d3e0489e-7168-462e-972c-775a2648653f",
   "metadata": {},
   "source": [
    "### Exploratory Questions"
   ]
  },
  {
   "cell_type": "markdown",
   "id": "166aea17-4bc2-422c-89a5-eff31a729d93",
   "metadata": {},
   "source": [
    "## QUESTION 1:"
   ]
  },
  {
   "cell_type": "markdown",
   "id": "26aba6f5-2099-4e35-9f3d-fa14e62ddf58",
   "metadata": {},
   "source": [
    "## QUESTION 2:"
   ]
  },
  {
   "cell_type": "markdown",
   "id": "daeccc5b-1adc-4571-9408-941668b6d7e2",
   "metadata": {},
   "source": [
    "## QUESTION 3:"
   ]
  },
  {
   "cell_type": "markdown",
   "id": "4621a1f5-25ca-445e-aef0-6cc12ef3f34e",
   "metadata": {},
   "source": [
    "### Hypothesis Testing"
   ]
  },
  {
   "cell_type": "markdown",
   "id": "88fdbe3c-e00a-4c28-828c-838eb10aba85",
   "metadata": {},
   "source": [
    "## Exploration Takeaways:"
   ]
  },
  {
   "cell_type": "markdown",
   "id": "95c9eb16-c179-415f-9c70-7b5a988fe889",
   "metadata": {},
   "source": [
    "---"
   ]
  },
  {
   "cell_type": "markdown",
   "id": "b84bd21a-f8c3-4e28-8576-545a4d05d05a",
   "metadata": {},
   "source": [
    "## DATA MODELING"
   ]
  },
  {
   "cell_type": "markdown",
   "id": "ad102de3-093e-433a-8bc0-2d735b2c778d",
   "metadata": {},
   "source": [
    "### Baseline"
   ]
  },
  {
   "cell_type": "markdown",
   "id": "e5bd86bf-5861-45fb-be1a-6eaa4846076c",
   "metadata": {},
   "source": [
    "### Best Models"
   ]
  },
  {
   "cell_type": "markdown",
   "id": "5cd70d33-c084-4e57-98b7-7f054076d086",
   "metadata": {},
   "source": [
    "---"
   ]
  },
  {
   "cell_type": "markdown",
   "id": "47c209d3-9c0a-4730-a414-2fd6fc2dbdb2",
   "metadata": {},
   "source": [
    "## CONCLUSION"
   ]
  },
  {
   "cell_type": "markdown",
   "id": "50456862-c641-4377-8a73-f979c5cb4de9",
   "metadata": {},
   "source": [
    "### Summary"
   ]
  },
  {
   "cell_type": "markdown",
   "id": "bbbb6018-64b6-4442-a52c-1fe946ca136d",
   "metadata": {},
   "source": [
    "### Recommendations"
   ]
  },
  {
   "cell_type": "markdown",
   "id": "89e4b9e4-54de-465b-a6bc-dbcbd9ee1db5",
   "metadata": {},
   "source": [
    "### Next Steps"
   ]
  }
 ],
 "metadata": {
  "kernelspec": {
   "display_name": "Python 3 (ipykernel)",
   "language": "python",
   "name": "python3"
  },
  "language_info": {
   "codemirror_mode": {
    "name": "ipython",
    "version": 3
   },
   "file_extension": ".py",
   "mimetype": "text/x-python",
   "name": "python",
   "nbconvert_exporter": "python",
   "pygments_lexer": "ipython3",
   "version": "3.9.7"
  }
 },
 "nbformat": 4,
 "nbformat_minor": 5
}
